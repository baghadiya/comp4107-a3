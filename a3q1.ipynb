{
 "cells": [
  {
   "cell_type": "code",
   "execution_count": null,
   "metadata": {
    "collapsed": true
   },
   "outputs": [],
   "source": [
    "from sklearn.datasets import fetch_mldata\n",
    "from q1 import HopfieldNetwork\n",
    "import numpy as np\n",
    "import random\n",
    "import matplotlib.pyplot as plt\n",
    "\n",
    "mnist = fetch_mldata('MNIST original', data_home='.cache')\n",
    "targets = mnist.target.tolist()\n",
    "\n",
    "start, end = targets.index(1), targets.index(6)\n",
    "\n",
    "dataset = [[1 if pixel > 0 else -1 for pixel in vector] for vector in mnist.data[start:end]]\n",
    "random.shuffle(dataset)\n",
    "trainset = dataset[:2000]\n",
    "testset = dataset[2000:2020]"
   ]
  },
  {
   "cell_type": "code",
   "execution_count": null,
   "metadata": {},
   "outputs": [],
   "source": [
    "hf = HopfieldNetwork(\n",
    "    train_dataset=trainset,\n",
    "    mode='storkey'\n",
    ")"
   ]
  },
  {
   "cell_type": "code",
   "execution_count": null,
   "metadata": {
    "collapsed": true
   },
   "outputs": [],
   "source": [
    "def add_noise(vector, ratio=0.2):\n",
    "    indices = range(len(vector))\n",
    "    num = ratio * len(indices)\n",
    "    for i in range(int(num)):\n",
    "        c = random.choice(indices)\n",
    "        vector[c] = 1 if vector[c] == -1 else -1\n",
    "        \n",
    "def show(vector, title='', suptitle=''):\n",
    "    plt.imshow(np.array(vector).reshape(28, 28))\n",
    "    plt.title(title)\n",
    "    plt.suptitle(suptitle)\n",
    "    plt.show()\n",
    "\n",
    "\n",
    "def test(network, index, image):\n",
    "    print 'Example %s' % index\n",
    "    v = network.activate(image)\n",
    "    show(image, \"Input - Example %s\" % index)\n",
    "    show(v, \"Output - Example %s\" % index)\n"
   ]
  },
  {
   "cell_type": "code",
   "execution_count": null,
   "metadata": {
    "scrolled": true
   },
   "outputs": [],
   "source": [
    "# test(10, dataset, hf, 'Without noise')\n",
    "# add_noise(dataset[10], ratio=0.12)\n",
    "# test(10, dataset, hf, 'With noise')\n",
    "# test(400, dataset, hf)\n",
    "# test(800, dataset, hf)\n",
    "# add_noise(dataset[30000], ratio=1)\n",
    "for index, image in enumerate(testset[0:50]):\n",
    "    test(hf, index, image)"
   ]
  }
 ],
 "metadata": {
  "kernelspec": {
   "display_name": "Python 2",
   "language": "python",
   "name": "python2"
  },
  "language_info": {
   "codemirror_mode": {
    "name": "ipython",
    "version": 2
   },
   "file_extension": ".py",
   "mimetype": "text/x-python",
   "name": "python",
   "nbconvert_exporter": "python",
   "pygments_lexer": "ipython2",
   "version": "2.7.13"
  }
 },
 "nbformat": 4,
 "nbformat_minor": 2
}
